{
  "nbformat": 4,
  "nbformat_minor": 0,
  "metadata": {
    "colab": {
      "provenance": [],
      "machine_shape": "hm",
      "gpuType": "A100"
    },
    "kernelspec": {
      "name": "python3",
      "display_name": "Python 3"
    },
    "language_info": {
      "name": "python"
    },
    "accelerator": "GPU"
  },
  "cells": [
    {
      "cell_type": "code",
      "execution_count": 1,
      "metadata": {
        "colab": {
          "base_uri": "https://localhost:8080/"
        },
        "id": "PsO0wbHOUNEb",
        "outputId": "9d5dc18e-cb6a-401f-bb1c-9e1ef739104e"
      },
      "outputs": [
        {
          "output_type": "stream",
          "name": "stdout",
          "text": [
            "Mounted at /content/drive\n"
          ]
        }
      ],
      "source": [
        "# mount google drive\n",
        "from google.colab import drive\n",
        "drive.mount('/content/drive')"
      ]
    },
    {
      "cell_type": "code",
      "source": [
        "!apt-get install tree\n",
        "!tree /content/drive/MyDrive/Deep\\ Learning\\ Project\\ Group -L 4"
      ],
      "metadata": {
        "colab": {
          "base_uri": "https://localhost:8080/"
        },
        "id": "Z1mkmkx-TgJq",
        "outputId": "ab974ba4-f493-4de4-b7e5-be7ea08c3b94"
      },
      "execution_count": 2,
      "outputs": [
        {
          "output_type": "stream",
          "name": "stdout",
          "text": [
            "Reading package lists... Done\n",
            "Building dependency tree... Done\n",
            "Reading state information... Done\n",
            "The following NEW packages will be installed:\n",
            "  tree\n",
            "0 upgraded, 1 newly installed, 0 to remove and 34 not upgraded.\n",
            "Need to get 47.9 kB of archives.\n",
            "After this operation, 116 kB of additional disk space will be used.\n",
            "Get:1 http://archive.ubuntu.com/ubuntu jammy/universe amd64 tree amd64 2.0.2-1 [47.9 kB]\n",
            "Fetched 47.9 kB in 1s (87.5 kB/s)\n",
            "Selecting previously unselected package tree.\n",
            "(Reading database ... 126102 files and directories currently installed.)\n",
            "Preparing to unpack .../tree_2.0.2-1_amd64.deb ...\n",
            "Unpacking tree (2.0.2-1) ...\n",
            "Setting up tree (2.0.2-1) ...\n",
            "Processing triggers for man-db (2.10.2-1) ...\n",
            "\u001b[01;36m/content/drive/MyDrive/Deep Learning Project Group\u001b[0m\n",
            "├── \u001b[01;34marchive\u001b[0m\n",
            "│   ├── \u001b[00mCheXpert_Image_EDA.ipynb\u001b[0m\n",
            "│   └── \u001b[00mCheXpert_Report_EDA.ipynb\u001b[0m\n",
            "├── \u001b[01;34mCheXClassifier\u001b[0m\n",
            "├── \u001b[01;34mCheXRetriever\u001b[0m\n",
            "│   ├── \u001b[01;34mdata\u001b[0m\n",
            "│   │   ├── \u001b[01;31marchive.zip\u001b[0m\n",
            "│   │   ├── \u001b[00mmetadata.csv\u001b[0m\n",
            "│   │   ├── \u001b[01;34mtest\u001b[0m\n",
            "│   │   │   ├── \u001b[01;34mimages\u001b[0m\n",
            "│   │   │   ├── \u001b[00mtest_metadata.csv\u001b[0m\n",
            "│   │   │   └── \u001b[00mtest_metadata_merged.csv\u001b[0m\n",
            "│   │   ├── \u001b[01;34mtrain\u001b[0m\n",
            "│   │   │   ├── \u001b[01;34mimages\u001b[0m\n",
            "│   │   │   ├── \u001b[00mtrain_metadata.csv\u001b[0m\n",
            "│   │   │   ├── \u001b[00mtrain_metadata.gsheet\u001b[0m\n",
            "│   │   │   └── \u001b[00mtrain_metadata_merged.csv\u001b[0m\n",
            "│   │   └── \u001b[01;34mval\u001b[0m\n",
            "│   │       ├── \u001b[01;34mimages\u001b[0m\n",
            "│   │       ├── \u001b[00mval_metadata.csv\u001b[0m\n",
            "│   │       ├── \u001b[00mval_metadata.gsheet\u001b[0m\n",
            "│   │       └── \u001b[00mval_metadata_merged.csv\u001b[0m\n",
            "│   └── \u001b[01;34msrc\u001b[0m\n",
            "│       ├── \u001b[00mbinary_data.ipynb\u001b[0m\n",
            "│       └── \u001b[00mData_Pre_Processing.ipynb\u001b[0m\n",
            "├── \u001b[01;34mData\u001b[0m\n",
            "│   ├── \u001b[00mchexpert_reports_frontal_only.csv\u001b[0m\n",
            "│   ├── \u001b[00mchexpert_reports_frontal_pa_only.csv\u001b[0m\n",
            "│   ├── \u001b[00mchexpert_reports_frontal_pa_only.gsheet\u001b[0m\n",
            "│   ├── \u001b[00mData Pre-Processing.ipynb\u001b[0m\n",
            "│   ├── \u001b[00mdf_chexpert_plus_240401.csv\u001b[0m\n",
            "│   └── \u001b[01;34mradgraphchexpertresults\u001b[0m\n",
            "│       ├── \u001b[00mCheXpert_graphs.json\u001b[0m\n",
            "│       ├── \u001b[00mCheXpert_test.json\u001b[0m\n",
            "│       ├── \u001b[00mdesktop.ini\u001b[0m\n",
            "│       └── \u001b[00mREADME.md\u001b[0m\n",
            "├── \u001b[01;34mdocuments\u001b[0m\n",
            "│   ├── \u001b[00mPipeline.gdoc\u001b[0m\n",
            "│   ├── \u001b[00mPreprocessing Pipeline.gdoc\u001b[0m\n",
            "│   ├── \u001b[00mProject Breakdown.gdoc\u001b[0m\n",
            "│   ├── \u001b[00mProject Scope Ideation .docx\u001b[0m\n",
            "│   └── \u001b[01;31mradgraphchexpertresults.zip\u001b[0m\n",
            "├── \u001b[01;34mPretrained Model Weights\u001b[0m\n",
            "│   ├── \u001b[00mchexpert_densenet121.ckpt\u001b[0m\n",
            "│   ├── \u001b[00mchexpert_densenet121__gloria_supervised_0.1.ckpt\u001b[0m\n",
            "│   ├── \u001b[00mchexpert_resnet18.ckpt\u001b[0m\n",
            "│   └── \u001b[00mchexpert_resnet50.ckpt\u001b[0m\n",
            "├── \u001b[01;34mresnet_model\u001b[0m\n",
            "│   ├── \u001b[00mbest_resnet_image_proj.pt\u001b[0m\n",
            "│   ├── \u001b[00mresnet_image_proj_head_20_epochs_small_dataset.pt\u001b[0m\n",
            "│   └── \u001b[00mResNet_Model.ipynb\u001b[0m\n",
            "└── \u001b[01;34mvit_projection_model\u001b[0m\n",
            "    ├── \u001b[01;34mpubmedbert_tokenizer\u001b[0m\n",
            "    │   ├── \u001b[00mspecial_tokens_map.json\u001b[0m\n",
            "    │   ├── \u001b[00mtokenizer_config.json\u001b[0m\n",
            "    │   ├── \u001b[00mtokenizer.json\u001b[0m\n",
            "    │   └── \u001b[00mvocab.txt\u001b[0m\n",
            "    ├── \u001b[00mtext_proj_head.pt\u001b[0m\n",
            "    └── \u001b[00mViT w PubMedBERT.ipynb\u001b[0m\n",
            "\n",
            "18 directories, 41 files\n"
          ]
        }
      ]
    },
    {
      "cell_type": "code",
      "source": [
        "import pandas as pd\n",
        "import numpy as np\n",
        "import matplotlib.pyplot as plt\n",
        "from pathlib import Path\n",
        "from PIL import Image\n",
        "from tqdm import tqdm\n",
        "import os\n",
        "\n",
        "import torch\n",
        "from torch import nn\n",
        "from torch.utils.data import Dataset, DataLoader\n",
        "from torchvision import models, transforms\n",
        "from torchvision.models import resnet50, ResNet50_Weights\n",
        "from sklearn.metrics import roc_auc_score\n",
        "\n",
        "from torch.amp import autocast, GradScaler\n",
        "\n",
        "torch.backends.cudnn.benchmark = True\n",
        "DEVICE = torch.device(\"cuda\" if torch.cuda.is_available() else \"cpu\")"
      ],
      "metadata": {
        "id": "Uyg0gHUjUvSj"
      },
      "execution_count": 3,
      "outputs": []
    },
    {
      "cell_type": "code",
      "source": [
        "BASE_DIR = Path(\"/content/drive/MyDrive/Deep Learning Project Group\")\n",
        "IMAGE_ROOT = BASE_DIR / \"CheXRetriever/data\"\n",
        "\n",
        "TRAIN_CSV = IMAGE_ROOT / \"train/train_metadata_merged.csv\"\n",
        "VAL_CSV = IMAGE_ROOT / \"val/val_metadata_merged.csv\"\n",
        "\n",
        "LABELS = [\n",
        "    \"Atelectasis\", \"Cardiomegaly\", \"Consolidation\", \"Edema\", \"Enlarged Cardiomediastinum\",\n",
        "    \"Fracture\", \"Lung Lesion\", \"Lung Opacity\", \"No Finding\", \"Pleural Effusion\",\n",
        "    \"Pleural Other\", \"Pneumonia\", \"Pneumothorax\", \"Support Devices\"\n",
        "]"
      ],
      "metadata": {
        "id": "dRqJ2MpZU1Kh"
      },
      "execution_count": 4,
      "outputs": []
    },
    {
      "cell_type": "code",
      "source": [
        "image_transform = transforms.Compose([\n",
        "    transforms.Resize((224, 224)),\n",
        "    transforms.ToTensor(),\n",
        "    transforms.Normalize(mean=[0.5]*3, std=[0.5]*3)\n",
        "])"
      ],
      "metadata": {
        "id": "fm8-KtHrW1kq"
      },
      "execution_count": 5,
      "outputs": []
    },
    {
      "cell_type": "code",
      "source": [
        "def load_split(csv_path, split):\n",
        "    df = pd.read_csv(csv_path)\n",
        "    df[\"split\"] = split\n",
        "    df[\"filename\"] = df[\"path_to_image\"].apply(lambda x: \"_\".join(x.split(\"/\")).replace(\".jpg\", \".png\"))\n",
        "    df[LABELS] = df[LABELS].fillna(0).replace(-1, 0)  # Treat uncertain labels as 0\n",
        "    return df[[\"filename\", \"split\"] + LABELS]\n",
        "\n",
        "train_df = load_split(TRAIN_CSV, \"train\")\n",
        "val_df = load_split(VAL_CSV, \"val\")\n",
        "\n",
        "print(\"Train size:\", train_df.shape)\n",
        "print(\"Val size:\", val_df.shape)\n",
        "\n",
        "# For quick testing: limit dataset size\n",
        "# train_df_small = train_df.sample(n=512, random_state=42).reset_index(drop=True)\n",
        "# val_df_small = val_df.sample(n=128, random_state=42).reset_index(drop=True)"
      ],
      "metadata": {
        "colab": {
          "base_uri": "https://localhost:8080/"
        },
        "id": "6BgkGRKSW2Pf",
        "outputId": "4099dd53-60e3-462f-9e0d-9ba7b052d1bf"
      },
      "execution_count": 6,
      "outputs": [
        {
          "output_type": "stream",
          "name": "stdout",
          "text": [
            "Train size: (20602, 16)\n",
            "Val size: (4415, 16)\n"
          ]
        }
      ]
    },
    {
      "cell_type": "code",
      "source": [
        "class CheXpertDataset(Dataset):\n",
        "    def __init__(self, dataframe, image_root, transform):\n",
        "        self.df = dataframe.reset_index(drop=True)\n",
        "        self.image_root = image_root\n",
        "        self.transform = transform\n",
        "\n",
        "    def __getitem__(self, idx):\n",
        "        row = self.df.iloc[idx]\n",
        "        image_path = self.image_root / row[\"split\"] / \"images\" / row[\"filename\"]\n",
        "        image = Image.open(image_path).convert(\"RGB\")\n",
        "        image = self.transform(image)\n",
        "\n",
        "        labels = torch.tensor(row[LABELS].values.astype(np.float32))\n",
        "        return image, labels\n",
        "\n",
        "    def __len__(self):\n",
        "        return len(self.df)"
      ],
      "metadata": {
        "id": "V5NW0rIGW7TQ"
      },
      "execution_count": 7,
      "outputs": []
    },
    {
      "cell_type": "code",
      "source": [
        "train_ds = CheXpertDataset(train_df, IMAGE_ROOT, image_transform)\n",
        "val_ds = CheXpertDataset(val_df, IMAGE_ROOT, image_transform)\n",
        "\n",
        "train_dl = DataLoader(train_ds, batch_size=64, shuffle=True, num_workers=os.cpu_count(), pin_memory=True)\n",
        "val_dl = DataLoader(val_ds, batch_size=64, shuffle=False, num_workers=os.cpu_count(), pin_memory=True)"
      ],
      "metadata": {
        "id": "WTKPiLT8XHg0"
      },
      "execution_count": 8,
      "outputs": []
    },
    {
      "cell_type": "code",
      "source": [
        "def show_sample(idx=0):\n",
        "    image, label = train_ds[idx]\n",
        "    image = image.permute(1, 2, 0)\n",
        "    image = (image * 0.5) + 0.5\n",
        "\n",
        "    plt.imshow(image)\n",
        "    plt.axis('off')\n",
        "    plt.title(f\"Label vector:\\n{label.numpy()}\")\n",
        "    plt.show()\n",
        "\n",
        "show_sample(0)"
      ],
      "metadata": {
        "colab": {
          "base_uri": "https://localhost:8080/",
          "height": 449
        },
        "id": "E9trzfngY1AN",
        "outputId": "661f2def-0e45-43ae-c052-dd43998566f1"
      },
      "execution_count": 9,
      "outputs": [
        {
          "output_type": "display_data",
          "data": {
            "text/plain": [
              "<Figure size 640x480 with 1 Axes>"
            ],
            "image/png": "[encoded data removed]"
          },
          "metadata": {}
        }
      ]
    },
    {
      "cell_type": "code",
      "source": [
        "class ResNetClassifier(nn.Module):\n",
        "    def __init__(self):\n",
        "        super().__init__()\n",
        "        base = resnet50(weights=ResNet50_Weights.DEFAULT)\n",
        "        self.encoder = nn.Sequential(*list(base.children())[:-1])\n",
        "        for p in self.encoder.parameters():\n",
        "            p.requires_grad = False\n",
        "\n",
        "        self.dropout = nn.Dropout(p=0.3)  # Drop 30% before classification\n",
        "        self.classifier = nn.Linear(2048, len(LABELS))\n",
        "\n",
        "    def forward(self, x):\n",
        "        x = self.encoder(x)\n",
        "        x = x.view(x.size(0), -1)\n",
        "        x = self.dropout(x)\n",
        "        return self.classifier(x)"
      ],
      "metadata": {
        "id": "h62SHdlyXObm"
      },
      "execution_count": 10,
      "outputs": []
    },
    {
      "cell_type": "code",
      "source": [
        "model = ResNetClassifier().to(DEVICE)\n",
        "optimizer = torch.optim.Adam(model.classifier.parameters(), lr=1e-4)\n",
        "criterion = nn.BCEWithLogitsLoss()\n",
        "scaler = GradScaler()\n",
        "\n",
        "EPOCHS = 20\n",
        "best_val_auroc = 0\n",
        "\n",
        "for epoch in range(EPOCHS):\n",
        "    model.train()\n",
        "    total_loss = 0\n",
        "    loop = tqdm(train_dl, desc=f\"Epoch {epoch+1}/{EPOCHS}\")\n",
        "\n",
        "    for images, targets in loop:\n",
        "        images, targets = images.to(DEVICE), targets.to(DEVICE)\n",
        "\n",
        "        with autocast(device_type='cuda'):\n",
        "            outputs = model(images)\n",
        "            loss = criterion(outputs, targets)\n",
        "\n",
        "        optimizer.zero_grad()\n",
        "        scaler.scale(loss).backward()\n",
        "        scaler.step(optimizer)\n",
        "        scaler.update()\n",
        "\n",
        "        total_loss += loss.item()\n",
        "        loop.set_postfix(loss=loss.item())\n",
        "\n",
        "    avg_loss = total_loss / len(train_dl)\n",
        "    print(f\"Epoch {epoch+1}: Avg Train Loss = {avg_loss:.4f}\")"
      ],
      "metadata": {
        "id": "MrtqXquOXRQc",
        "colab": {
          "base_uri": "https://localhost:8080/"
        },
        "outputId": "6bf30b45-1b11-4915-c252-ebf624d4e77f"
      },
      "execution_count": 11,
      "outputs": [
        {
          "output_type": "stream",
          "name": "stderr",
          "text": [
            "Downloading: \"https://download.pytorch.org/models/resnet50-11ad3fa6.pth\" to /root/.cache/torch/hub/checkpoints/resnet50-11ad3fa6.pth\n",
            "100%|██████████| 97.8M/97.8M [00:00<00:00, 203MB/s]\n",
            "Epoch 1/20: 100%|██████████| 322/322 [07:51<00:00,  1.46s/it, loss=0.33]\n"
          ]
        },
        {
          "output_type": "stream",
          "name": "stdout",
          "text": [
            "Epoch 1: Avg Train Loss = 0.3746\n"
          ]
        },
        {
          "output_type": "stream",
          "name": "stderr",
          "text": [
            "Epoch 2/20: 100%|██████████| 322/322 [00:31<00:00, 10.21it/s, loss=0.318]\n"
          ]
        },
        {
          "output_type": "stream",
          "name": "stdout",
          "text": [
            "Epoch 2: Avg Train Loss = 0.3250\n"
          ]
        },
        {
          "output_type": "stream",
          "name": "stderr",
          "text": [
            "Epoch 3/20: 100%|██████████| 322/322 [00:30<00:00, 10.41it/s, loss=0.284]\n"
          ]
        },
        {
          "output_type": "stream",
          "name": "stdout",
          "text": [
            "Epoch 3: Avg Train Loss = 0.3200\n"
          ]
        },
        {
          "output_type": "stream",
          "name": "stderr",
          "text": [
            "Epoch 4/20: 100%|██████████| 322/322 [00:30<00:00, 10.44it/s, loss=0.315]\n"
          ]
        },
        {
          "output_type": "stream",
          "name": "stdout",
          "text": [
            "Epoch 4: Avg Train Loss = 0.3160\n"
          ]
        },
        {
          "output_type": "stream",
          "name": "stderr",
          "text": [
            "Epoch 5/20: 100%|██████████| 322/322 [00:31<00:00, 10.37it/s, loss=0.281]\n"
          ]
        },
        {
          "output_type": "stream",
          "name": "stdout",
          "text": [
            "Epoch 5: Avg Train Loss = 0.3132\n"
          ]
        },
        {
          "output_type": "stream",
          "name": "stderr",
          "text": [
            "Epoch 6/20: 100%|██████████| 322/322 [00:31<00:00, 10.11it/s, loss=0.306]\n"
          ]
        },
        {
          "output_type": "stream",
          "name": "stdout",
          "text": [
            "Epoch 6: Avg Train Loss = 0.3105\n"
          ]
        },
        {
          "output_type": "stream",
          "name": "stderr",
          "text": [
            "Epoch 7/20: 100%|██████████| 322/322 [00:31<00:00, 10.37it/s, loss=0.315]\n"
          ]
        },
        {
          "output_type": "stream",
          "name": "stdout",
          "text": [
            "Epoch 7: Avg Train Loss = 0.3084\n"
          ]
        },
        {
          "output_type": "stream",
          "name": "stderr",
          "text": [
            "Epoch 8/20: 100%|██████████| 322/322 [00:30<00:00, 10.46it/s, loss=0.319]\n"
          ]
        },
        {
          "output_type": "stream",
          "name": "stdout",
          "text": [
            "Epoch 8: Avg Train Loss = 0.3065\n"
          ]
        },
        {
          "output_type": "stream",
          "name": "stderr",
          "text": [
            "Epoch 9/20: 100%|██████████| 322/322 [00:31<00:00, 10.32it/s, loss=0.285]\n"
          ]
        },
        {
          "output_type": "stream",
          "name": "stdout",
          "text": [
            "Epoch 9: Avg Train Loss = 0.3052\n"
          ]
        },
        {
          "output_type": "stream",
          "name": "stderr",
          "text": [
            "Epoch 10/20: 100%|██████████| 322/322 [00:31<00:00, 10.35it/s, loss=0.316]\n"
          ]
        },
        {
          "output_type": "stream",
          "name": "stdout",
          "text": [
            "Epoch 10: Avg Train Loss = 0.3036\n"
          ]
        },
        {
          "output_type": "stream",
          "name": "stderr",
          "text": [
            "Epoch 11/20: 100%|██████████| 322/322 [00:30<00:00, 10.40it/s, loss=0.29]\n"
          ]
        },
        {
          "output_type": "stream",
          "name": "stdout",
          "text": [
            "Epoch 11: Avg Train Loss = 0.3023\n"
          ]
        },
        {
          "output_type": "stream",
          "name": "stderr",
          "text": [
            "Epoch 12/20: 100%|██████████| 322/322 [00:31<00:00, 10.30it/s, loss=0.324]\n"
          ]
        },
        {
          "output_type": "stream",
          "name": "stdout",
          "text": [
            "Epoch 12: Avg Train Loss = 0.3013\n"
          ]
        },
        {
          "output_type": "stream",
          "name": "stderr",
          "text": [
            "Epoch 13/20: 100%|██████████| 322/322 [00:31<00:00, 10.37it/s, loss=0.298]\n"
          ]
        },
        {
          "output_type": "stream",
          "name": "stdout",
          "text": [
            "Epoch 13: Avg Train Loss = 0.3004\n"
          ]
        },
        {
          "output_type": "stream",
          "name": "stderr",
          "text": [
            "Epoch 14/20: 100%|██████████| 322/322 [00:30<00:00, 10.40it/s, loss=0.281]\n"
          ]
        },
        {
          "output_type": "stream",
          "name": "stdout",
          "text": [
            "Epoch 14: Avg Train Loss = 0.2993\n"
          ]
        },
        {
          "output_type": "stream",
          "name": "stderr",
          "text": [
            "Epoch 15/20: 100%|██████████| 322/322 [00:31<00:00, 10.35it/s, loss=0.276]\n"
          ]
        },
        {
          "output_type": "stream",
          "name": "stdout",
          "text": [
            "Epoch 15: Avg Train Loss = 0.2984\n"
          ]
        },
        {
          "output_type": "stream",
          "name": "stderr",
          "text": [
            "Epoch 16/20: 100%|██████████| 322/322 [00:31<00:00, 10.32it/s, loss=0.298]\n"
          ]
        },
        {
          "output_type": "stream",
          "name": "stdout",
          "text": [
            "Epoch 16: Avg Train Loss = 0.2978\n"
          ]
        },
        {
          "output_type": "stream",
          "name": "stderr",
          "text": [
            "Epoch 17/20: 100%|██████████| 322/322 [00:31<00:00, 10.32it/s, loss=0.282]\n"
          ]
        },
        {
          "output_type": "stream",
          "name": "stdout",
          "text": [
            "Epoch 17: Avg Train Loss = 0.2969\n"
          ]
        },
        {
          "output_type": "stream",
          "name": "stderr",
          "text": [
            "Epoch 18/20: 100%|██████████| 322/322 [00:31<00:00, 10.33it/s, loss=0.299]\n"
          ]
        },
        {
          "output_type": "stream",
          "name": "stdout",
          "text": [
            "Epoch 18: Avg Train Loss = 0.2964\n"
          ]
        },
        {
          "output_type": "stream",
          "name": "stderr",
          "text": [
            "Epoch 19/20: 100%|██████████| 322/322 [00:31<00:00, 10.37it/s, loss=0.292]\n"
          ]
        },
        {
          "output_type": "stream",
          "name": "stdout",
          "text": [
            "Epoch 19: Avg Train Loss = 0.2956\n"
          ]
        },
        {
          "output_type": "stream",
          "name": "stderr",
          "text": [
            "Epoch 20/20: 100%|██████████| 322/322 [00:31<00:00, 10.35it/s, loss=0.335]"
          ]
        },
        {
          "output_type": "stream",
          "name": "stdout",
          "text": [
            "Epoch 20: Avg Train Loss = 0.2953\n"
          ]
        },
        {
          "output_type": "stream",
          "name": "stderr",
          "text": [
            "\n"
          ]
        }
      ]
    },
    {
      "cell_type": "code",
      "source": [
        "def evaluate(model, val_dl):\n",
        "    model.eval()\n",
        "    all_labels, all_preds = [], []\n",
        "\n",
        "    with torch.no_grad():\n",
        "        for images, labels in val_dl:\n",
        "            images = images.to(DEVICE)\n",
        "            outputs = model(images).sigmoid().cpu()\n",
        "            all_preds.append(outputs)\n",
        "            all_labels.append(labels)\n",
        "\n",
        "    all_preds = torch.cat(all_preds).numpy()\n",
        "    all_labels = torch.cat(all_labels).numpy()\n",
        "\n",
        "    aucs = []\n",
        "    for i, label in enumerate(LABELS):\n",
        "        try:\n",
        "            auc = roc_auc_score(all_labels[:, i], all_preds[:, i])\n",
        "        except:\n",
        "            auc = float('nan')\n",
        "        aucs.append(auc)\n",
        "\n",
        "    mean_auc = np.nanmean(aucs)\n",
        "    return aucs, mean_auc"
      ],
      "metadata": {
        "id": "caF4343XYeZu"
      },
      "execution_count": 12,
      "outputs": []
    },
    {
      "cell_type": "code",
      "source": [
        "aucs, mean_auc = evaluate(model, val_dl)\n",
        "print(f\"Epoch {epoch+1}: Mean AUROC = {mean_auc:.4f}\")\n",
        "for lbl, auc in zip(LABELS, aucs):\n",
        "    print(f\"  {lbl:25s}: AUROC = {auc:.4f}\")\n",
        "\n",
        "if mean_auc > best_val_auroc:\n",
        "    best_val_auroc = mean_auc\n",
        "    save_path = BASE_DIR / \"resnet_model/best_resnet_classifier.pt\"\n",
        "    torch.save(model.state_dict(), save_path)\n",
        "    print(f\"✅ Saved best model to {save_path}\")"
      ],
      "metadata": {
        "id": "Y3aYKw7gKXqy",
        "colab": {
          "base_uri": "https://localhost:8080/"
        },
        "outputId": "a2bc8168-79d8-47a7-e7f1-a8eed39b894f"
      },
      "execution_count": 13,
      "outputs": [
        {
          "output_type": "stream",
          "name": "stdout",
          "text": [
            "Epoch 20: Mean AUROC = 0.6605\n",
            "  Atelectasis              : AUROC = 0.6560\n",
            "  Cardiomegaly             : AUROC = 0.7040\n",
            "  Consolidation            : AUROC = 0.6120\n",
            "  Edema                    : AUROC = 0.7768\n",
            "  Enlarged Cardiomediastinum: AUROC = 0.5371\n",
            "  Fracture                 : AUROC = 0.5584\n",
            "  Lung Lesion              : AUROC = 0.5804\n",
            "  Lung Opacity             : AUROC = 0.6611\n",
            "  No Finding               : AUROC = 0.7523\n",
            "  Pleural Effusion         : AUROC = 0.7917\n",
            "  Pleural Other            : AUROC = 0.6328\n",
            "  Pneumonia                : AUROC = 0.5706\n",
            "  Pneumothorax             : AUROC = 0.6803\n",
            "  Support Devices          : AUROC = 0.7328\n",
            "✅ Saved best model to /content/drive/MyDrive/Deep Learning Project Group/resnet_model/best_resnet_classifier.pt\n"
          ]
        }
      ]
    },
    {
      "cell_type": "code",
      "source": [
        "from sklearn.metrics import roc_auc_score, average_precision_score, f1_score, precision_score, recall_score, hamming_loss\n",
        "\n",
        "def evaluate(model, val_dl):\n",
        "    model.eval()\n",
        "    all_labels, all_preds = [], []\n",
        "\n",
        "    with torch.no_grad():\n",
        "        for images, labels in val_dl:\n",
        "            images = images.to(DEVICE)\n",
        "            outputs = model(images).sigmoid().cpu()\n",
        "            all_preds.append(outputs)\n",
        "            all_labels.append(labels)\n",
        "\n",
        "    all_preds = torch.cat(all_preds).numpy()\n",
        "    all_labels = torch.cat(all_labels).numpy()\n",
        "    pred_bin = (all_preds > 0.5).astype(int)  # Binarized predictions\n",
        "\n",
        "    aurocs, aps, f1s, precs, recs = [], [], [], [], []\n",
        "    for i in range(len(LABELS)):\n",
        "        try:\n",
        "            aurocs.append(roc_auc_score(all_labels[:, i], all_preds[:, i]))\n",
        "            aps.append(average_precision_score(all_labels[:, i], all_preds[:, i]))\n",
        "            f1s.append(f1_score(all_labels[:, i], pred_bin[:, i]))\n",
        "            precs.append(precision_score(all_labels[:, i], pred_bin[:, i]))\n",
        "            recs.append(recall_score(all_labels[:, i], pred_bin[:, i]))\n",
        "        except:\n",
        "            aurocs.append(np.nan)\n",
        "            aps.append(np.nan)\n",
        "            f1s.append(np.nan)\n",
        "            precs.append(np.nan)\n",
        "            recs.append(np.nan)\n",
        "\n",
        "    mean_auc = np.nanmean(aurocs)\n",
        "    mean_ap = np.nanmean(aps)\n",
        "    mean_f1 = np.nanmean(f1s)\n",
        "    mean_precision = np.nanmean(precs)\n",
        "    mean_recall = np.nanmean(recs)\n",
        "    hamming = hamming_loss(all_labels, pred_bin)\n",
        "\n",
        "    return {\n",
        "        \"AUROC\": aurocs,\n",
        "        \"mAP\": mean_ap,\n",
        "        \"F1\": f1s,\n",
        "        \"Precision\": precs,\n",
        "        \"Recall\": recs,\n",
        "        \"Hamming Loss\": hamming,\n",
        "        \"Mean AUROC\": mean_auc,\n",
        "        \"Mean F1\": mean_f1\n",
        "    }\n",
        "\n",
        "metrics = evaluate(model, val_dl)\n",
        "\n",
        "print(f\"\\nMean AUROC:     {metrics['Mean AUROC']:.4f}\")\n",
        "print(f\"Mean AP (mAP):  {metrics['mAP']:.4f}\")\n",
        "print(f\"Mean F1 Score:  {metrics['Mean F1']:.4f}\")\n",
        "print(f\"Mean Precision: {np.nanmean(metrics['Precision']):.4f}\")\n",
        "print(f\"Mean Recall:    {np.nanmean(metrics['Recall']):.4f}\")\n",
        "print(f\"Hamming Loss:   {metrics['Hamming Loss']:.4f}\\n\")\n",
        "\n",
        "for lbl, auc, f1 in zip(LABELS, metrics[\"AUROC\"], metrics[\"F1\"]):\n",
        "    print(f\"{lbl:25s}: AUROC={auc:.3f}, F1={f1:.3f}\")"
      ],
      "metadata": {
        "colab": {
          "base_uri": "https://localhost:8080/"
        },
        "id": "tjYBtlc9dVLA",
        "outputId": "a23e89d0-0888-46c9-e257-0547333c246b"
      },
      "execution_count": 15,
      "outputs": [
        {
          "output_type": "stream",
          "name": "stdout",
          "text": [
            "\n",
            "Mean AUROC:     0.6605\n",
            "Mean AP (mAP):  0.2267\n",
            "Mean F1 Score:  0.0776\n",
            "Mean Precision: 0.2538\n",
            "Mean Recall:    0.0497\n",
            "Hamming Loss:   0.1150\n",
            "\n",
            "Atelectasis              : AUROC=0.656, F1=0.000\n",
            "Cardiomegaly             : AUROC=0.704, F1=0.000\n",
            "Consolidation            : AUROC=0.612, F1=0.000\n",
            "Edema                    : AUROC=0.777, F1=0.008\n",
            "Enlarged Cardiomediastinum: AUROC=0.537, F1=0.000\n",
            "Fracture                 : AUROC=0.558, F1=0.000\n",
            "Lung Lesion              : AUROC=0.580, F1=0.000\n",
            "Lung Opacity             : AUROC=0.661, F1=0.242\n",
            "No Finding               : AUROC=0.752, F1=0.178\n",
            "Pleural Effusion         : AUROC=0.792, F1=0.354\n",
            "Pleural Other            : AUROC=0.633, F1=0.000\n",
            "Pneumonia                : AUROC=0.571, F1=0.000\n",
            "Pneumothorax             : AUROC=0.680, F1=0.000\n",
            "Support Devices          : AUROC=0.733, F1=0.304\n"
          ]
        },
        {
          "output_type": "stream",
          "name": "stderr",
          "text": [
            "/usr/local/lib/python3.11/dist-packages/sklearn/metrics/_classification.py:1565: UndefinedMetricWarning: Precision is ill-defined and being set to 0.0 due to no predicted samples. Use `zero_division` parameter to control this behavior.\n",
            "  _warn_prf(average, modifier, f\"{metric.capitalize()} is\", len(result))\n",
            "/usr/local/lib/python3.11/dist-packages/sklearn/metrics/_classification.py:1565: UndefinedMetricWarning: Precision is ill-defined and being set to 0.0 due to no predicted samples. Use `zero_division` parameter to control this behavior.\n",
            "  _warn_prf(average, modifier, f\"{metric.capitalize()} is\", len(result))\n",
            "/usr/local/lib/python3.11/dist-packages/sklearn/metrics/_classification.py:1565: UndefinedMetricWarning: Precision is ill-defined and being set to 0.0 due to no predicted samples. Use `zero_division` parameter to control this behavior.\n",
            "  _warn_prf(average, modifier, f\"{metric.capitalize()} is\", len(result))\n",
            "/usr/local/lib/python3.11/dist-packages/sklearn/metrics/_classification.py:1565: UndefinedMetricWarning: Precision is ill-defined and being set to 0.0 due to no predicted samples. Use `zero_division` parameter to control this behavior.\n",
            "  _warn_prf(average, modifier, f\"{metric.capitalize()} is\", len(result))\n",
            "/usr/local/lib/python3.11/dist-packages/sklearn/metrics/_classification.py:1565: UndefinedMetricWarning: Precision is ill-defined and being set to 0.0 due to no predicted samples. Use `zero_division` parameter to control this behavior.\n",
            "  _warn_prf(average, modifier, f\"{metric.capitalize()} is\", len(result))\n",
            "/usr/local/lib/python3.11/dist-packages/sklearn/metrics/_classification.py:1565: UndefinedMetricWarning: Precision is ill-defined and being set to 0.0 due to no predicted samples. Use `zero_division` parameter to control this behavior.\n",
            "  _warn_prf(average, modifier, f\"{metric.capitalize()} is\", len(result))\n",
            "/usr/local/lib/python3.11/dist-packages/sklearn/metrics/_classification.py:1565: UndefinedMetricWarning: Precision is ill-defined and being set to 0.0 due to no predicted samples. Use `zero_division` parameter to control this behavior.\n",
            "  _warn_prf(average, modifier, f\"{metric.capitalize()} is\", len(result))\n",
            "/usr/local/lib/python3.11/dist-packages/sklearn/metrics/_classification.py:1565: UndefinedMetricWarning: Precision is ill-defined and being set to 0.0 due to no predicted samples. Use `zero_division` parameter to control this behavior.\n",
            "  _warn_prf(average, modifier, f\"{metric.capitalize()} is\", len(result))\n"
          ]
        }
      ]
    },
    {
      "cell_type": "code",
      "source": [],
      "metadata": {
        "id": "TmX9n8d9dYuK"
      },
      "execution_count": null,
      "outputs": []
    }
  ]
}